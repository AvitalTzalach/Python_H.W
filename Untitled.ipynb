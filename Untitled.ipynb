{
 "cells": [
  {
   "cell_type": "code",
   "execution_count": 1,
   "id": "5ab64d63-2515-4093-973d-0cdff265b4eb",
   "metadata": {},
   "outputs": [
    {
     "ename": "NameError",
     "evalue": "name 'np' is not defined",
     "output_type": "error",
     "traceback": [
      "\u001b[1;31m---------------------------------------------------------------------------\u001b[0m",
      "\u001b[1;31mNameError\u001b[0m                                 Traceback (most recent call last)",
      "Cell \u001b[1;32mIn[1], line 1\u001b[0m\n\u001b[1;32m----> 1\u001b[0m random_int \u001b[38;5;241m=\u001b[39m \u001b[43mnp\u001b[49m\u001b[38;5;241m.\u001b[39mrandom\u001b[38;5;241m.\u001b[39mrandint(\u001b[38;5;241m1\u001b[39m, \u001b[38;5;241m50\u001b[39m, size\u001b[38;5;241m=\u001b[39m(\u001b[38;5;241m10\u001b[39m))\n",
      "\u001b[1;31mNameError\u001b[0m: name 'np' is not defined"
     ]
    }
   ],
   "source": [
    "random_int = np.random.randint(1, 50, size=(10))"
   ]
  },
  {
   "cell_type": "code",
   "execution_count": 2,
   "id": "6ee4e439-d8e6-4507-83ce-e0a94902042e",
   "metadata": {},
   "outputs": [
    {
     "ename": "SyntaxError",
     "evalue": "invalid syntax (2330675361.py, line 1)",
     "output_type": "error",
     "traceback": [
      "\u001b[1;36m  Cell \u001b[1;32mIn[2], line 1\u001b[1;36m\u001b[0m\n\u001b[1;33m    PIP INSTALL NUMPY\u001b[0m\n\u001b[1;37m        ^\u001b[0m\n\u001b[1;31mSyntaxError\u001b[0m\u001b[1;31m:\u001b[0m invalid syntax\n"
     ]
    }
   ],
   "source": [
    "PIP INSTALL NUMPY"
   ]
  },
  {
   "cell_type": "code",
   "execution_count": 3,
   "id": "3b723efb-7767-44e3-a961-fbc508364d23",
   "metadata": {},
   "outputs": [
    {
     "name": "stdout",
     "output_type": "stream",
     "text": [
      "Collecting numpy\n",
      "  Downloading numpy-2.2.5-cp310-cp310-win_amd64.whl.metadata (60 kB)\n",
      "     ---------------------------------------- 0.0/60.8 kB ? eta -:--:--\n",
      "     -------------------- ------------------- 30.7/60.8 kB ? eta -:--:--\n",
      "     -------------------------------------- 60.8/60.8 kB 816.2 kB/s eta 0:00:00\n",
      "Downloading numpy-2.2.5-cp310-cp310-win_amd64.whl (12.9 MB)\n",
      "   ---------------------------------------- 0.0/12.9 MB ? eta -:--:--\n",
      "   ---------------------------------------- 0.1/12.9 MB 4.8 MB/s eta 0:00:03\n",
      "    --------------------------------------- 0.2/12.9 MB 2.5 MB/s eta 0:00:06\n",
      "   - -------------------------------------- 0.4/12.9 MB 2.7 MB/s eta 0:00:05\n",
      "   - -------------------------------------- 0.6/12.9 MB 3.3 MB/s eta 0:00:04\n",
      "   -- ------------------------------------- 0.8/12.9 MB 3.8 MB/s eta 0:00:04\n",
      "   --- ------------------------------------ 1.0/12.9 MB 3.7 MB/s eta 0:00:04\n",
      "   ---- ----------------------------------- 1.5/12.9 MB 4.4 MB/s eta 0:00:03\n",
      "   ----- ---------------------------------- 1.8/12.9 MB 4.8 MB/s eta 0:00:03\n",
      "   ------ --------------------------------- 1.9/12.9 MB 4.8 MB/s eta 0:00:03\n",
      "   ------ --------------------------------- 2.3/12.9 MB 5.0 MB/s eta 0:00:03\n",
      "   ------- -------------------------------- 2.4/12.9 MB 4.7 MB/s eta 0:00:03\n",
      "   -------- ------------------------------- 2.6/12.9 MB 4.7 MB/s eta 0:00:03\n",
      "   -------- ------------------------------- 2.8/12.9 MB 4.5 MB/s eta 0:00:03\n",
      "   --------- ------------------------------ 2.9/12.9 MB 4.6 MB/s eta 0:00:03\n",
      "   --------- ------------------------------ 3.1/12.9 MB 4.4 MB/s eta 0:00:03\n",
      "   --------- ------------------------------ 3.2/12.9 MB 4.4 MB/s eta 0:00:03\n",
      "   ---------- ----------------------------- 3.3/12.9 MB 4.1 MB/s eta 0:00:03\n",
      "   ---------- ----------------------------- 3.4/12.9 MB 4.1 MB/s eta 0:00:03\n",
      "   ---------- ----------------------------- 3.5/12.9 MB 4.0 MB/s eta 0:00:03\n",
      "   ----------- ---------------------------- 3.6/12.9 MB 3.8 MB/s eta 0:00:03\n",
      "   ----------- ---------------------------- 3.7/12.9 MB 3.8 MB/s eta 0:00:03\n",
      "   ----------- ---------------------------- 3.8/12.9 MB 3.8 MB/s eta 0:00:03\n",
      "   ------------ --------------------------- 4.0/12.9 MB 3.7 MB/s eta 0:00:03\n",
      "   ------------ --------------------------- 4.1/12.9 MB 3.6 MB/s eta 0:00:03\n",
      "   ------------ --------------------------- 4.2/12.9 MB 3.6 MB/s eta 0:00:03\n",
      "   ------------- -------------------------- 4.4/12.9 MB 3.6 MB/s eta 0:00:03\n",
      "   ------------- -------------------------- 4.5/12.9 MB 3.5 MB/s eta 0:00:03\n",
      "   -------------- ------------------------- 4.6/12.9 MB 3.5 MB/s eta 0:00:03\n",
      "   -------------- ------------------------- 4.7/12.9 MB 3.5 MB/s eta 0:00:03\n",
      "   --------------- ------------------------ 5.0/12.9 MB 3.5 MB/s eta 0:00:03\n",
      "   ---------------- ----------------------- 5.2/12.9 MB 3.6 MB/s eta 0:00:03\n",
      "   ---------------- ----------------------- 5.4/12.9 MB 3.6 MB/s eta 0:00:03\n",
      "   ----------------- ---------------------- 5.6/12.9 MB 3.6 MB/s eta 0:00:03\n",
      "   ----------------- ---------------------- 5.8/12.9 MB 3.7 MB/s eta 0:00:02\n",
      "   ------------------ --------------------- 6.0/12.9 MB 3.7 MB/s eta 0:00:02\n",
      "   ------------------- -------------------- 6.2/12.9 MB 3.7 MB/s eta 0:00:02\n",
      "   ------------------- -------------------- 6.4/12.9 MB 3.7 MB/s eta 0:00:02\n",
      "   -------------------- ------------------- 6.6/12.9 MB 3.7 MB/s eta 0:00:02\n",
      "   -------------------- ------------------- 6.7/12.9 MB 3.7 MB/s eta 0:00:02\n",
      "   --------------------- ------------------ 6.9/12.9 MB 3.7 MB/s eta 0:00:02\n",
      "   --------------------- ------------------ 7.0/12.9 MB 3.7 MB/s eta 0:00:02\n",
      "   ---------------------- ----------------- 7.1/12.9 MB 3.6 MB/s eta 0:00:02\n",
      "   ---------------------- ----------------- 7.3/12.9 MB 3.6 MB/s eta 0:00:02\n",
      "   ----------------------- ---------------- 7.5/12.9 MB 3.7 MB/s eta 0:00:02\n",
      "   ------------------------ --------------- 7.9/12.9 MB 3.7 MB/s eta 0:00:02\n",
      "   ------------------------- -------------- 8.3/12.9 MB 3.8 MB/s eta 0:00:02\n",
      "   --------------------------- ------------ 8.7/12.9 MB 4.0 MB/s eta 0:00:02\n",
      "   ---------------------------- ----------- 9.2/12.9 MB 4.1 MB/s eta 0:00:01\n",
      "   ----------------------------- ---------- 9.6/12.9 MB 4.2 MB/s eta 0:00:01\n",
      "   ------------------------------ --------- 10.0/12.9 MB 4.3 MB/s eta 0:00:01\n",
      "   -------------------------------- ------- 10.4/12.9 MB 4.5 MB/s eta 0:00:01\n",
      "   --------------------------------- ------ 10.8/12.9 MB 4.5 MB/s eta 0:00:01\n",
      "   ---------------------------------- ----- 11.2/12.9 MB 4.6 MB/s eta 0:00:01\n",
      "   ----------------------------------- ---- 11.5/12.9 MB 4.6 MB/s eta 0:00:01\n",
      "   ------------------------------------- -- 12.0/12.9 MB 4.6 MB/s eta 0:00:01\n",
      "   -------------------------------------- - 12.3/12.9 MB 4.7 MB/s eta 0:00:01\n",
      "   ---------------------------------------  12.7/12.9 MB 4.7 MB/s eta 0:00:01\n",
      "   ---------------------------------------- 12.9/12.9 MB 4.8 MB/s eta 0:00:00\n",
      "Installing collected packages: numpy\n",
      "Note: you may need to restart the kernel to use updated packages.\n"
     ]
    },
    {
     "name": "stderr",
     "output_type": "stream",
     "text": [
      "  WARNING: Failed to write executable - trying to use .deleteme logic\n",
      "ERROR: Could not install packages due to an OSError: [WinError 2] The system cannot find the file specified: 'C:\\\\Python310\\\\Scripts\\\\f2py.exe' -> 'C:\\\\Python310\\\\Scripts\\\\f2py.exe.deleteme'\n",
      "\n",
      "\n",
      "[notice] A new release of pip is available: 23.3.2 -> 25.1\n",
      "[notice] To update, run: python.exe -m pip install --upgrade pip\n"
     ]
    }
   ],
   "source": [
    "pip install numpy\n"
   ]
  },
  {
   "cell_type": "code",
   "execution_count": 4,
   "id": "132c83da-cbe7-4c48-bf78-5b21f8eea80c",
   "metadata": {},
   "outputs": [
    {
     "ename": "NameError",
     "evalue": "name 'np' is not defined",
     "output_type": "error",
     "traceback": [
      "\u001b[1;31m---------------------------------------------------------------------------\u001b[0m",
      "\u001b[1;31mNameError\u001b[0m                                 Traceback (most recent call last)",
      "Cell \u001b[1;32mIn[4], line 1\u001b[0m\n\u001b[1;32m----> 1\u001b[0m random_int \u001b[38;5;241m=\u001b[39m \u001b[43mnp\u001b[49m\u001b[38;5;241m.\u001b[39mrandom\u001b[38;5;241m.\u001b[39mrandint(\u001b[38;5;241m1\u001b[39m, \u001b[38;5;241m50\u001b[39m, size\u001b[38;5;241m=\u001b[39m(\u001b[38;5;241m10\u001b[39m))\n",
      "\u001b[1;31mNameError\u001b[0m: name 'np' is not defined"
     ]
    }
   ],
   "source": [
    "random_int = np.random.randint(1, 50, size=(10))\n"
   ]
  },
  {
   "cell_type": "code",
   "execution_count": 5,
   "id": "98265f8e-010b-430b-a437-8d2c4b8bb419",
   "metadata": {},
   "outputs": [],
   "source": [
    "import numpy\n"
   ]
  },
  {
   "cell_type": "code",
   "execution_count": 6,
   "id": "dac086ab-701b-4640-b066-a8cb89fb9ecd",
   "metadata": {},
   "outputs": [],
   "source": [
    "import numpy as np"
   ]
  },
  {
   "cell_type": "code",
   "execution_count": 7,
   "id": "354a5e9f-2833-493e-85ce-1471f546726c",
   "metadata": {},
   "outputs": [],
   "source": [
    "random_int = np.random.randint(1, 50, size=(10))"
   ]
  },
  {
   "cell_type": "code",
   "execution_count": 8,
   "id": "f83e9273-9759-44bd-8038-d4a937df55fd",
   "metadata": {},
   "outputs": [
    {
     "data": {
      "text/plain": [
       "array([47, 47,  5, 25, 32,  7, 47, 22, 17, 29], dtype=int32)"
      ]
     },
     "execution_count": 8,
     "metadata": {},
     "output_type": "execute_result"
    }
   ],
   "source": [
    "random_int"
   ]
  },
  {
   "cell_type": "code",
   "execution_count": 9,
   "id": "083ff5d5-d06c-4f02-b5ea-7e4dd5111ba5",
   "metadata": {},
   "outputs": [
    {
     "data": {
      "text/plain": [
       "10"
      ]
     },
     "execution_count": 9,
     "metadata": {},
     "output_type": "execute_result"
    }
   ],
   "source": [
    "random_int.size"
   ]
  },
  {
   "cell_type": "code",
   "execution_count": 10,
   "id": "f6a41bf1-0881-4d6b-ab58-5d5a76c95483",
   "metadata": {},
   "outputs": [
    {
     "data": {
      "text/plain": [
       "1"
      ]
     },
     "execution_count": 10,
     "metadata": {},
     "output_type": "execute_result"
    }
   ],
   "source": [
    "np.ndim(random_int)"
   ]
  },
  {
   "cell_type": "code",
   "execution_count": 11,
   "id": "c8380596-1cc6-46c2-8624-027046a3b9bd",
   "metadata": {},
   "outputs": [
    {
     "data": {
      "text/plain": [
       "dtype('int32')"
      ]
     },
     "execution_count": 11,
     "metadata": {},
     "output_type": "execute_result"
    }
   ],
   "source": [
    "random_int.dtype"
   ]
  },
  {
   "cell_type": "code",
   "execution_count": 15,
   "id": "0b8a39d0-ea68-460f-8ef2-cc23e506b0a7",
   "metadata": {},
   "outputs": [
    {
     "data": {
      "text/plain": [
       "np.float64(27.8)"
      ]
     },
     "execution_count": 15,
     "metadata": {},
     "output_type": "execute_result"
    }
   ],
   "source": [
    "random_int.mean()"
   ]
  },
  {
   "cell_type": "code",
   "execution_count": null,
   "id": "dfa11178-a289-41cc-abe2-dc8155023267",
   "metadata": {},
   "outputs": [],
   "source": [
    "random_int = np.random.randint(1, 100, size=(20))"
   ]
  }
 ],
 "metadata": {
  "kernelspec": {
   "display_name": "Python 3 (ipykernel)",
   "language": "python",
   "name": "python3"
  },
  "language_info": {
   "codemirror_mode": {
    "name": "ipython",
    "version": 3
   },
   "file_extension": ".py",
   "mimetype": "text/x-python",
   "name": "python",
   "nbconvert_exporter": "python",
   "pygments_lexer": "ipython3",
   "version": "3.10.8"
  }
 },
 "nbformat": 4,
 "nbformat_minor": 5
}
